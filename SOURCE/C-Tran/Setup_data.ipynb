{
 "cells": [
  {
   "cell_type": "markdown",
   "metadata": {},
   "source": [
    "### Downloading & Unzipping Dataset"
   ]
  },
  {
   "cell_type": "code",
   "execution_count": null,
   "metadata": {},
   "outputs": [],
   "source": [
    "## Login to AIcrowd\n",
    "# !pip install aicrowd-cli > /dev/null\n",
    "# !aicrowd login"
   ]
  },
  {
   "cell_type": "code",
   "execution_count": null,
   "metadata": {},
   "outputs": [],
   "source": [
    "# List dataset for this challenge\n",
    "# !aicrowd dataset list -c food-recognition-benchmark-2022\n",
    "## Download dataset\n",
    "# !aicrowd dataset download -c food-recognition-benchmark-2022"
   ]
  },
  {
   "cell_type": "code",
   "execution_count": null,
   "metadata": {},
   "outputs": [],
   "source": [
    "## Create data/food/test, data/food/train, data/food/val\n",
    "## Load data to directory\n",
    "# %cd data/food/test && tar -xvf public_test_release_2.1.tar\n",
    "# %cd data/food/val && tar -xvf public_validation_set_release_2.1.tar\n",
    "# %cd data/food/train && tar -xvf public_training_set_release_2.1.tar"
   ]
  }
 ],
 "metadata": {
  "language_info": {
   "name": "python"
  }
 },
 "nbformat": 4,
 "nbformat_minor": 2
}
